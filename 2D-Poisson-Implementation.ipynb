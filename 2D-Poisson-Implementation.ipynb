{
 "cells": [
  {
   "attachments": {},
   "cell_type": "markdown",
   "metadata": {},
   "source": [
    "# **Solving 2D Poisson's Equation Using Finite Difference Method and Iterative Solvers**"
   ]
  },
  {
   "attachments": {},
   "cell_type": "markdown",
   "metadata": {},
   "source": [
    "**Author**: Reece Iriye\n",
    "\n",
    "**Course**: MATH 4315 (Advanced Scientific Computing)\n",
    "\n",
    "**Section**: Spring 2023, MWF 12:00-12:50PM, 001-LEC\n",
    "\n",
    "**Department**: Mathematics"
   ]
  },
  {
   "attachments": {},
   "cell_type": "markdown",
   "metadata": {},
   "source": [
    "### **Project Description**"
   ]
  },
  {
   "attachments": {},
   "cell_type": "markdown",
   "metadata": {},
   "source": [
    "This project studies solving 2-D boundary value problems with finite difference schemes and iterative methods. Consider a metal plate on the unit square $D = {(x, y) : 0 ≤ x, y ≤ 1}$. The temperature $\\phi(x, y)$ satisfies Poisson’s equation:\n",
    "$$\n",
    "\\begin{gather*}\n",
    "\\frac{\\partial ^{2}\\phi}{\\partial x^2} + \\frac{\\partial ^{2}\\phi}{\\partial y^2} = f(x,y)\n",
    "\\end{gather*}\n",
    "$$\n",
    "\n",
    "on D with boundary conditions $\\phi(x,0) = ···, \\phi(x,1) = ···, \\phi(0,y) = ···, \\phi(1,y) = ···$.\n",
    "\n",
    "\n",
    "We can solve for the temperature using the finite-difference scheme $D^{x}_{+} D^{x}_{-} w_{ij} + D^{y}_{+} D^{y}_{-} w_{ij} =\n",
    "f_{ij}$ with mesh size $h = \\frac{1}{n+1}$. This yields a linear system $A_{h}w_{h} = f_h$, where $w_h = \\{w_{ij}\\}$ is the numerical solution with components $w_{ij} ≈ \\phi(x_i,y_j)$. The mesh points are given by $x_i = i \\times h, y_j = j \\times h$, for $i,j = 0:n+1$. \n",
    "\n",
    "\n",
    "My work is composed of three parts.\n",
    "\n",
    "\n",
    "**Part I**: Pick a function $\\phi(x, y)$ on my own and generate $f(x, y)$, $\\phi(x, 0)$, $\\phi(x, 1)$, $\\phi(0, y)$, $\\phi(1,y)$ based on my pick. The picked function should be smooth (e.g. the combination of trigonometric function, exponential, logarithmic, etc.). Avoid simply polynomial or function with singularities in the computational domain (e.g. $\\log(x−0.5)$). I need to provide $\\phi(x, y)$, $f(x,y)$, and the boundary conditions in my project report.\n",
    "\n",
    "\n",
    "\n",
    "**Part II**: Use `Python` to solve the linear system by Jacobi’s method with $h = \\frac{1}{2}, \\frac{1}{4}, ... , \\frac{1}{64}$.\n",
    "Take $w_{ij}^{(0)} = 0$ at step $k = 0$. Take $\\frac{||r_{k}||_{\\infty}}{||r_{0}||_{\\infty}} ≤ 10^{−8}$ for the stopping criterion, where $r_k = f_h - A_{h}w_{h}^{(k)}$ is the residual at step $k$. Note we use “$||r||_\\infty = \\max(abs(r))$” in Python to return the infinite norm of $r$ (why?) since $r$ is a vector-in-matrix form. The `abs()` and `max()` function should be loaded from the `numpy` package. To keep the code simple, code the numerical solution $w_h = \\{w_{ij}\\}$ as a matrix of dimension $(n + 2) \\times (n + 2)$ containing the unknown interior temperature values and the known boundary values. Hence, in Python, the numerical solution has the form $w(i, j)$. For $i = 0 : n+1, j = 0 : n+1$, use the component form of Jacobi’s method,\n",
    "$$\n",
    "\\begin{gather*}\n",
    "\\frac{1}{h^2}(4w_{ij}^{(k+1)} - w_{i+1,j}^{(k)} - w_{i-1,j}^{(k)} - w_{i,j+1}^{(k)} - w_{i,j-1}^{(k)}) = f_{ij}\n",
    "\\end{gather*}\n",
    "$$\n",
    "\n",
    "and solve for $w_{ij}^{(k+1)}$ using loops over $i$ and $j$. Do not form the full matrix $A_h$ (because it is sparse and that would waste memory). You will need two versions of the vector $w_{ij}$, one for the current step $(k + 1)$ and one for the previous step $(k)$. For this part, you result will include one figure composed of six sub-figures and a table as described below.\n",
    "\n",
    "1. For each value of $h$ from $\\frac{1}{4}$, $\\frac{1}{8}$, and $\\frac{1}{16}$, plot the computed temperature $w_{ij}$ (including the boundary values) at the final step using a contour plot and a mesh plot (type `help contour` and `help mesh` in Python for instructions). Use `subplot` to get several graphs on one plot, as in the lecture notes.\n",
    "\n",
    "2. Find the errors of the numerical solution by comparing with the true values and study the order of accuracy `error=max(abs(w-wtrue))`. A tabular output of four columns and six rows is required as:\n",
    "\n",
    "\n",
    "| h  | error |  ratio  | order  |\n",
    "|:--:|:-----:|:-------:|:------:|\n",
    "|... | ...   |  ...    | ...    |\n",
    "\n",
    "\n",
    "where $ratio=error(2h)/error(h)$ and $order=\\log_2(ratio)$.\n",
    "\n",
    "\n",
    "3. Give a brief writeup (use the Markdown of Jupyter notebook) to describe my results, connecting to the theory. For example, give a column by column description of the data pattern in the table, predict the asymptotic behavior and explained why.\n",
    "\n",
    "\n",
    "**Part III**: Repeat `Part I` with Gauss-Seidel’s method and SOR method ($w_{*} = \\frac{2}{1+ \\sqrt{1−\\cos^2(\\pi \\times h)}}$)\n",
    "You need to first figure out the component form of both methods as in Eq. (2). You can check errors and graphs to make sure the coding is correct. However, for this part, you only need to submit a 6 by 4 tabular data of iteration numbers of all three methods at different $h$. Describe the table and explain the pattern.\n",
    "\n",
    "| h  | Jacobi |  Gauss-Sidel  | SOR  |\n",
    "|:--:|:-----:|:-------:|:------:|\n",
    "|... | ...   |  ...    | ...    |\n",
    "\n",
    "Project Specification\n",
    "Your project report should be written with Jupyter noterbook including the following compo- nents as described. It is also okay to use a Word document to include all required information and save it as a pdf file.\n",
    "(1) General information: project title, course, date, name, affiliation (school and depart- ment/program)\n",
    "(2) Project Description: Use your own language to briefly describe the project including the problem you try to solve and the numerical methods you use.\n",
    "(3) Concepts and Theory: describe the physical problem you try to solve, with the differential equation, boundary values, and parameters listed, as well as the analytical solution. (4) Numerical Results and Discussion: show the graphs and tables obtained (one figure with 6 subplots) and discuss what you have observed, explain data patterns by connecting to (3). Carefully choose the format and how many significant digits after decimal point to keep for the data in the table.\n",
    "(5) Concluding Remarks: summarize what you have done, what you learned and raise your questions if there are any.\n",
    "Note: please submit your report via canvas with the provided link. The report should be converted into a pdf file with the filename: p4315 yourlastname. This file name is also your submission title on canvas. Please submit your code as well since I might need to run it to figure out some problems.\n",
    "         \n",
    "Jacobi:\n",
    "G-S:\n",
    "SOR:\n",
    "thus\n",
    "w(k+1) = 1((w(k) ij 4 i+1,j\n",
    "w(k+1) = 1((w(k) ij 4 i+1,j\n",
    "+w(k) +w(k) i−1,j i,j+1\n",
    "+ w(k+1) + w(k)\n",
    "+w(k) )+f h2) (3) i,j−1 ij\n",
    "+ w(k+1)) + f h2) (4)\n",
    "4 w(k+1) = 4 w(k) +ω∗( 1 (4w(k) −w(k)\n",
    "i,j+1\n",
    "−w(k+1) −w(k)\n",
    "h2 ij h2 ij h2 ij w(k+1) = w(k) + 1ω∗(4w(k) − w(k)\n",
    "ij ij 4 ij i+1,j\n",
    "i+1,j\n",
    "i−1,j\n",
    "i,j+1\n",
    "i−1,j\n",
    "i,j−1\n",
    "ij\n",
    "−w(k+1))−f ) (5) i,j−1 ij\n",
    "Note you need to use two version of w for Jacobi’s method but only one version of w for G-S and SOR methods (when updating wij, all needed are ready in w).\n",
    "− w(k+1) − w(k) i−1,j i,j+1\n",
    "− w(k+1) − f h2) i,j−1 ij\n",
    "(6)\n"
   ]
  },
  {
   "cell_type": "code",
   "execution_count": 2,
   "metadata": {},
   "outputs": [],
   "source": [
    "import numpy as np\n",
    "from math import log"
   ]
  },
  {
   "cell_type": "code",
   "execution_count": null,
   "metadata": {},
   "outputs": [],
   "source": []
  },
  {
   "cell_type": "markdown",
   "metadata": {},
   "source": []
  }
 ],
 "metadata": {
  "kernelspec": {
   "display_name": "Python 3",
   "language": "python",
   "name": "python3"
  },
  "language_info": {
   "codemirror_mode": {
    "name": "ipython",
    "version": 3
   },
   "file_extension": ".py",
   "mimetype": "text/x-python",
   "name": "python",
   "nbconvert_exporter": "python",
   "pygments_lexer": "ipython3",
   "version": "3.9.6 (default, Oct 18 2022, 12:41:40) \n[Clang 14.0.0 (clang-1400.0.29.202)]"
  },
  "orig_nbformat": 4,
  "vscode": {
   "interpreter": {
    "hash": "31f2aee4e71d21fbe5cf8b01ff0e069b9275f58929596ceb00d14d90e3e16cd6"
   }
  }
 },
 "nbformat": 4,
 "nbformat_minor": 2
}
